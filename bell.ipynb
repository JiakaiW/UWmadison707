{
 "cells": [
  {
   "cell_type": "code",
   "execution_count": 4,
   "metadata": {},
   "outputs": [
    {
     "data": {
      "text/plain": [
       "1.0347752308120224"
      ]
     },
     "execution_count": 4,
     "metadata": {},
     "output_type": "execute_result"
    }
   ],
   "source": [
    "d = {\n",
    "    (-45,-22.5): 74.6,\n",
    "    (-45,22.5): 104,\n",
    "    (-45,67.5): 141.8,\n",
    "    (-45,112.5): 112.5,\n",
    "    (0,-22.5):142.3,\n",
    "    (0,22.5): 145.7,\n",
    "    (0,67.5): 24.9,\n",
    "    (0,112.5): 51.2,\n",
    "    (45,-22.5): 96.1,\n",
    "    (45,22.5): 102.8,\n",
    "    (45,67.5): 85.6,\n",
    "    (45,112.5): 87.3,\n",
    "    (90,-22.5):16.7,\n",
    "    (90,22.5): 64.6,\n",
    "    (90,67.5): 169.8,\n",
    "    (90,112.5): 128.5,\n",
    "}\n",
    "\n",
    "def E(a,b):\n",
    "    return (d[(a,b)]+d[(a+90,b+90)]-d[(a,b+90)]-d[(a+90,b)])/(d[(a,b)]+d[(a+90,b+90)]+d[(a,b+90)]+d[(a+90,b)])\n",
    "\n",
    "E(-45,-22.5)-E(-45,22.5) +E(0,-22.5)+E(0,22.5)"
   ]
  },
  {
   "cell_type": "code",
   "execution_count": null,
   "metadata": {},
   "outputs": [],
   "source": []
  }
 ],
 "metadata": {
  "kernelspec": {
   "display_name": "qutip",
   "language": "python",
   "name": "python3"
  },
  "language_info": {
   "codemirror_mode": {
    "name": "ipython",
    "version": 3
   },
   "file_extension": ".py",
   "mimetype": "text/x-python",
   "name": "python",
   "nbconvert_exporter": "python",
   "pygments_lexer": "ipython3",
   "version": "3.10.14"
  }
 },
 "nbformat": 4,
 "nbformat_minor": 2
}
